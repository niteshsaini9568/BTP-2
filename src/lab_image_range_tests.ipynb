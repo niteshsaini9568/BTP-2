{
 "cells": [
  {
   "cell_type": "code",
   "execution_count": null,
   "id": "be1ac6f7",
   "metadata": {},
   "outputs": [],
   "source": [
    "import os\n",
    "import numpy as np"
   ]
  },
  {
   "cell_type": "code",
   "execution_count": null,
   "id": "bae075c9",
   "metadata": {},
   "outputs": [],
   "source": [
    "from image_utils import read_image, apply_image_l_pre_processing, apply_image_ab_pre_processing, convert_rgb2lab, convert_rgb2gray, convert_lab2rgb, resize_image"
   ]
  },
  {
   "cell_type": "code",
   "execution_count": null,
   "id": "902d9cb4",
   "metadata": {},
   "outputs": [],
   "source": [
    "import matplotlib.pyplot as plt"
   ]
  },
  {
   "cell_type": "code",
   "execution_count": null,
   "id": "264ecd12",
   "metadata": {},
   "outputs": [],
   "source": [
    "dir_images = \"/home/abhishek/Desktop/machine_learning/coco_2017/all_train/\""
   ]
  },
  {
   "cell_type": "code",
   "execution_count": null,
   "id": "65e6365c",
   "metadata": {},
   "outputs": [],
   "source": [
    "list_images = sorted(os.listdir(dir_images))"
   ]
  },
  {
   "cell_type": "code",
   "execution_count": null,
   "id": "19b159e5",
   "metadata": {},
   "outputs": [],
   "source": [
    "num_images = len(list_images)"
   ]
  },
  {
   "cell_type": "markdown",
   "id": "11e348b8",
   "metadata": {},
   "source": [
    "## 1. LAB image range test"
   ]
  },
  {
   "cell_type": "code",
   "execution_count": null,
   "id": "672cde49",
   "metadata": {},
   "outputs": [],
   "source": [
    "def run_image_tests(is_l_channel=True, is_debug=False):\n",
    "    print(f\"Num images to be tested : {num_images}\")\n",
    "    if is_l_channel:\n",
    "        print(\"L channel test\\n\")\n",
    "    else:\n",
    "        print(\"ab channel test\\n\")\n",
    "\n",
    "    num_fails = 0\n",
    "    for img_idx in range(num_images):\n",
    "        img_rgb = read_image(os.path.join(dir_images, list_images[img_idx]))\n",
    "\n",
    "        img_lab = convert_rgb2lab(img_rgb)\n",
    "        \n",
    "        if is_l_channel:\n",
    "            img_l = img_lab[:, :, 0]\n",
    "            img_l = apply_image_l_pre_processing(img_l)\n",
    "            min_val = np.min(img_l)\n",
    "            max_val = np.max(img_l)\n",
    "            \n",
    "            if min_val < -1 or max_val > 1:\n",
    "                num_fails += 1\n",
    "            \n",
    "            if is_debug:\n",
    "                print(f\"image id : {img_idx}, L channel - min : {min_val:.4f}, max : {max_val:.4f}\")\n",
    "        else:\n",
    "            img_ab = img_lab[:, :, 1:]\n",
    "            img_ab = apply_image_ab_pre_processing(img_ab)\n",
    "            min_val = np.min(img_ab)\n",
    "            max_val = np.max(img_ab)\n",
    "            \n",
    "            if min_val < -1 or max_val > 1:\n",
    "                num_fails += 1\n",
    "            \n",
    "            if is_debug:\n",
    "                print(f\"image id : {img_idx}, ab channel - min : {min_val:.4f}, max : {max_val:.4f}\")\n",
    "    print(f\"Num images with condition satisfied : {num_images - num_fails}\")\n",
    "    return"
   ]
  },
  {
   "cell_type": "code",
   "execution_count": null,
   "id": "a9f408da",
   "metadata": {},
   "outputs": [],
   "source": [
    "run_image_tests()"
   ]
  },
  {
   "cell_type": "code",
   "execution_count": null,
   "id": "1a5f39ca",
   "metadata": {},
   "outputs": [],
   "source": [
    "run_image_tests(is_l_channel=False)"
   ]
  },
  {
   "cell_type": "code",
   "execution_count": null,
   "id": "fbd0eb4a",
   "metadata": {},
   "outputs": [],
   "source": []
  }
 ],
 "metadata": {
  "kernelspec": {
   "display_name": "Python 3 (ipykernel)",
   "language": "python",
   "name": "python3"
  },
  "language_info": {
   "codemirror_mode": {
    "name": "ipython",
    "version": 3
   },
   "file_extension": ".py",
   "mimetype": "text/x-python",
   "name": "python",
   "nbconvert_exporter": "python",
   "pygments_lexer": "ipython3",
   "version": "3.8.10"
  }
 },
 "nbformat": 4,
 "nbformat_minor": 5
}
